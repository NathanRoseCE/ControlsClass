{
 "cells": [
  {
   "cell_type": "code",
   "execution_count": 200,
   "id": "fd222375",
   "metadata": {},
   "outputs": [],
   "source": [
    "import sympy\n",
    "import control\n"
   ]
  },
  {
   "cell_type": "markdown",
   "id": "53e43b41",
   "metadata": {},
   "source": [
    "# Problem 2"
   ]
  },
  {
   "cell_type": "code",
   "execution_count": 201,
   "id": "e503edd7",
   "metadata": {},
   "outputs": [
    {
     "data": {
      "text/latex": [
       "$$\\begin{bmatrix}\\frac{9 s^4 + 111 s^3 + 18 s^2 - 3996 s - 1.231 \\times 10^{4}}{s^5 + 18 s^4 + 72 s^3 - 432 s^2 - 3888 s - 7776}&\\frac{s^4 + 15 s^3 + 18 s^2 - 540 s - 1944}{s^5 + 18 s^4 + 72 s^3 - 432 s^2 - 3888 s - 7776}\\frac{9 s^4 + 111 s^3 + 18 s^2 - 3996 s - 1.231 \\times 10^{4}}{s^5 + 18 s^4 + 72 s^3 - 432 s^2 - 3888 s - 7776}\\\\\\frac{s^4 + 12 s^3 - 1.307 \\times 10^{-12} s^2 - 432 s - 1296}{s^5 + 18 s^4 + 72 s^3 - 432 s^2 - 3888 s - 7776}&\\frac{2 s^4 + 36 s^3 + 228 s^2 + 576 s + 432}{s^5 + 18 s^4 + 72 s^3 - 432 s^2 - 3888 s - 7776}\\frac{s^4 + 12 s^3 - 1.343 \\times 10^{-12} s^2 - 432 s - 1296}{s^5 + 18 s^4 + 72 s^3 - 432 s^2 - 3888 s - 7776}\\\\ \\end{bmatrix}$$"
      ],
      "text/plain": [
       "TransferFunction([[array([ 9.0000e+00,  1.1100e+02,  1.8000e+01, -3.9960e+03, -1.2312e+04]), array([ 1.000e+00,  1.500e+01,  1.800e+01, -5.400e+02, -1.944e+03]), array([ 9.0000e+00,  1.1100e+02,  1.8000e+01, -3.9960e+03, -1.2312e+04])], [array([ 1.00000000e+00,  1.20000000e+01, -1.30739863e-12, -4.32000000e+02,\n",
       "       -1.29600000e+03]), array([  2.,  36., 228., 576., 432.]), array([ 1.00000000e+00,  1.20000000e+01, -1.34292577e-12, -4.32000000e+02,\n",
       "       -1.29600000e+03])]], [[array([ 1.000e+00,  1.800e+01,  7.200e+01, -4.320e+02, -3.888e+03,\n",
       "       -7.776e+03]), array([ 1.000e+00,  1.800e+01,  7.200e+01, -4.320e+02, -3.888e+03,\n",
       "       -7.776e+03]), array([ 1.000e+00,  1.800e+01,  7.200e+01, -4.320e+02, -3.888e+03,\n",
       "       -7.776e+03])], [array([ 1.000e+00,  1.800e+01,  7.200e+01, -4.320e+02, -3.888e+03,\n",
       "       -7.776e+03]), array([ 1.000e+00,  1.800e+01,  7.200e+01, -4.320e+02, -3.888e+03,\n",
       "       -7.776e+03]), array([ 1.000e+00,  1.800e+01,  7.200e+01, -4.320e+02, -3.888e+03,\n",
       "       -7.776e+03])]])"
      ]
     },
     "execution_count": 201,
     "metadata": {},
     "output_type": "execute_result"
    }
   ],
   "source": [
    "# observable canonical form\n",
    "A = sympy.Matrix([\n",
    "  [0, 0, 0, 0, 216,   0],\n",
    "  [0, 0, 0, 0,   0, 216],\n",
    "  [1, 0, 0, 0,  36,   0],\n",
    "  [0, 1, 0, 0,   0,  36],\n",
    "  [0, 0, 1, 0,  -6,   0],\n",
    "  [0, 0, 0, 1,   0,  -6]]\n",
    ")\n",
    "B = sympy.Matrix([\n",
    "  [-342, -54, -342],\n",
    "  [ -36,  12,  -36],\n",
    "  [   3,   3,    3],\n",
    "  [   0,  12,    0],\n",
    "  [   9,   1,    9],\n",
    "  [   1,   2,    1]]\n",
    ")\n",
    "C = sympy.Matrix([\n",
    "  [0, 0, 0, 0, 1, 0],\n",
    "  [0, 0, 0, 0, 0, 1]]\n",
    ")\n",
    "D = sympy.Matrix([\n",
    "  [0, 0, 0],\n",
    "  [0, 0, 0]]\n",
    ")\n",
    "control.ss2tf(control.StateSpace(A,B,C,D))"
   ]
  },
  {
   "cell_type": "code",
   "execution_count": 202,
   "id": "8107812d",
   "metadata": {},
   "outputs": [
    {
     "data": {
      "text/latex": [
       "\\[\n",
       "\\left(\\begin{array}{rllrllrllrllrllrll|rllrllrll}\n",
       "-6\\phantom{.}&\\hspace{-1em}&\\hspace{-1em}\\phantom{\\cdot}&1\\phantom{.}&\\hspace{-1em}&\\hspace{-1em}\\phantom{\\cdot}&0\\phantom{.}&\\hspace{-1em}&\\hspace{-1em}\\phantom{\\cdot}&0\\phantom{.}&\\hspace{-1em}&\\hspace{-1em}\\phantom{\\cdot}&0\\phantom{.}&\\hspace{-1em}&\\hspace{-1em}\\phantom{\\cdot}&0\\phantom{.}&\\hspace{-1em}&\\hspace{-1em}\\phantom{\\cdot}&9\\phantom{.}&\\hspace{-1em}&\\hspace{-1em}\\phantom{\\cdot}&1\\phantom{.}&\\hspace{-1em}&\\hspace{-1em}\\phantom{\\cdot}&9\\phantom{.}&\\hspace{-1em}&\\hspace{-1em}\\phantom{\\cdot}\\\\\n",
       "0\\phantom{.}&\\hspace{-1em}&\\hspace{-1em}\\phantom{\\cdot}&-6\\phantom{.}&\\hspace{-1em}&\\hspace{-1em}\\phantom{\\cdot}&0\\phantom{.}&\\hspace{-1em}&\\hspace{-1em}\\phantom{\\cdot}&0\\phantom{.}&\\hspace{-1em}&\\hspace{-1em}\\phantom{\\cdot}&0\\phantom{.}&\\hspace{-1em}&\\hspace{-1em}\\phantom{\\cdot}&0\\phantom{.}&\\hspace{-1em}&\\hspace{-1em}\\phantom{\\cdot}&3\\phantom{.}&\\hspace{-1em}&\\hspace{-1em}\\phantom{\\cdot}&3\\phantom{.}&\\hspace{-1em}&\\hspace{-1em}\\phantom{\\cdot}&3\\phantom{.}&\\hspace{-1em}&\\hspace{-1em}\\phantom{\\cdot}\\\\\n",
       "0\\phantom{.}&\\hspace{-1em}&\\hspace{-1em}\\phantom{\\cdot}&0\\phantom{.}&\\hspace{-1em}&\\hspace{-1em}\\phantom{\\cdot}&-6\\phantom{.}&\\hspace{-1em}&\\hspace{-1em}\\phantom{\\cdot}&1\\phantom{.}&\\hspace{-1em}&\\hspace{-1em}\\phantom{\\cdot}&0\\phantom{.}&\\hspace{-1em}&\\hspace{-1em}\\phantom{\\cdot}&0\\phantom{.}&\\hspace{-1em}&\\hspace{-1em}\\phantom{\\cdot}&1\\phantom{.}&\\hspace{-1em}&\\hspace{-1em}\\phantom{\\cdot}&0.&\\hspace{-1em}917&\\hspace{-1em}\\phantom{\\cdot}&1\\phantom{.}&\\hspace{-1em}&\\hspace{-1em}\\phantom{\\cdot}\\\\\n",
       "0\\phantom{.}&\\hspace{-1em}&\\hspace{-1em}\\phantom{\\cdot}&0\\phantom{.}&\\hspace{-1em}&\\hspace{-1em}\\phantom{\\cdot}&0\\phantom{.}&\\hspace{-1em}&\\hspace{-1em}\\phantom{\\cdot}&-6\\phantom{.}&\\hspace{-1em}&\\hspace{-1em}\\phantom{\\cdot}&0\\phantom{.}&\\hspace{-1em}&\\hspace{-1em}\\phantom{\\cdot}&0\\phantom{.}&\\hspace{-1em}&\\hspace{-1em}\\phantom{\\cdot}&0\\phantom{.}&\\hspace{-1em}&\\hspace{-1em}\\phantom{\\cdot}&-1\\phantom{.}&\\hspace{-1em}&\\hspace{-1em}\\phantom{\\cdot}&0\\phantom{.}&\\hspace{-1em}&\\hspace{-1em}\\phantom{\\cdot}\\\\\n",
       "0\\phantom{.}&\\hspace{-1em}&\\hspace{-1em}\\phantom{\\cdot}&0\\phantom{.}&\\hspace{-1em}&\\hspace{-1em}\\phantom{\\cdot}&0\\phantom{.}&\\hspace{-1em}&\\hspace{-1em}\\phantom{\\cdot}&0\\phantom{.}&\\hspace{-1em}&\\hspace{-1em}\\phantom{\\cdot}&6\\phantom{.}&\\hspace{-1em}&\\hspace{-1em}\\phantom{\\cdot}&0\\phantom{.}&\\hspace{-1em}&\\hspace{-1em}\\phantom{\\cdot}&0\\phantom{.}&\\hspace{-1em}&\\hspace{-1em}\\phantom{\\cdot}&0\\phantom{.}&\\hspace{-1em}&\\hspace{-1em}\\phantom{\\cdot}&0\\phantom{.}&\\hspace{-1em}&\\hspace{-1em}\\phantom{\\cdot}\\\\\n",
       "0\\phantom{.}&\\hspace{-1em}&\\hspace{-1em}\\phantom{\\cdot}&0\\phantom{.}&\\hspace{-1em}&\\hspace{-1em}\\phantom{\\cdot}&0\\phantom{.}&\\hspace{-1em}&\\hspace{-1em}\\phantom{\\cdot}&0\\phantom{.}&\\hspace{-1em}&\\hspace{-1em}\\phantom{\\cdot}&0\\phantom{.}&\\hspace{-1em}&\\hspace{-1em}\\phantom{\\cdot}&6\\phantom{.}&\\hspace{-1em}&\\hspace{-1em}\\phantom{\\cdot}&0\\phantom{.}&\\hspace{-1em}&\\hspace{-1em}\\phantom{\\cdot}&1.&\\hspace{-1em}08&\\hspace{-1em}\\phantom{\\cdot}&0\\phantom{.}&\\hspace{-1em}&\\hspace{-1em}\\phantom{\\cdot}\\\\\n",
       "\\hline\n",
       "1\\phantom{.}&\\hspace{-1em}&\\hspace{-1em}\\phantom{\\cdot}&0\\phantom{.}&\\hspace{-1em}&\\hspace{-1em}\\phantom{\\cdot}&0\\phantom{.}&\\hspace{-1em}&\\hspace{-1em}\\phantom{\\cdot}&0\\phantom{.}&\\hspace{-1em}&\\hspace{-1em}\\phantom{\\cdot}&1\\phantom{.}&\\hspace{-1em}&\\hspace{-1em}\\phantom{\\cdot}&0\\phantom{.}&\\hspace{-1em}&\\hspace{-1em}\\phantom{\\cdot}&0\\phantom{.}&\\hspace{-1em}&\\hspace{-1em}\\phantom{\\cdot}&0\\phantom{.}&\\hspace{-1em}&\\hspace{-1em}\\phantom{\\cdot}&0\\phantom{.}&\\hspace{-1em}&\\hspace{-1em}\\phantom{\\cdot}\\\\\n",
       "0\\phantom{.}&\\hspace{-1em}&\\hspace{-1em}\\phantom{\\cdot}&0\\phantom{.}&\\hspace{-1em}&\\hspace{-1em}\\phantom{\\cdot}&1\\phantom{.}&\\hspace{-1em}&\\hspace{-1em}\\phantom{\\cdot}&0\\phantom{.}&\\hspace{-1em}&\\hspace{-1em}\\phantom{\\cdot}&0\\phantom{.}&\\hspace{-1em}&\\hspace{-1em}\\phantom{\\cdot}&1\\phantom{.}&\\hspace{-1em}&\\hspace{-1em}\\phantom{\\cdot}&0\\phantom{.}&\\hspace{-1em}&\\hspace{-1em}\\phantom{\\cdot}&0\\phantom{.}&\\hspace{-1em}&\\hspace{-1em}\\phantom{\\cdot}&0\\phantom{.}&\\hspace{-1em}&\\hspace{-1em}\\phantom{\\cdot}\\\\\n",
       "\\end{array}\\right)\n",
       "\\]"
      ],
      "text/plain": [
       "StateSpace(array([[-6.,  1.,  0.,  0.,  0.,  0.],\n",
       "       [ 0., -6.,  0.,  0.,  0.,  0.],\n",
       "       [ 0.,  0., -6.,  1.,  0.,  0.],\n",
       "       [ 0.,  0.,  0., -6.,  0.,  0.],\n",
       "       [ 0.,  0.,  0.,  0.,  6.,  0.],\n",
       "       [ 0.,  0.,  0.,  0.,  0.,  6.]]), array([[ 9.        ,  1.        ,  9.        ],\n",
       "       [ 3.        ,  3.        ,  3.        ],\n",
       "       [ 1.        ,  0.91666667,  1.        ],\n",
       "       [ 0.        , -1.        ,  0.        ],\n",
       "       [ 0.        ,  0.        ,  0.        ],\n",
       "       [ 0.        ,  1.08333333,  0.        ]]), array([[1., 0., 0., 0., 1., 0.],\n",
       "       [0., 0., 1., 0., 0., 1.]]), array([[0., 0., 0.],\n",
       "       [0., 0., 0.]]))"
      ]
     },
     "execution_count": 202,
     "metadata": {},
     "output_type": "execute_result"
    }
   ],
   "source": [
    "# move to jordan form\n",
    "P, J = A.jordan_form()\n",
    "bar_A = J\n",
    "bar_B = P.inv() * B\n",
    "bar_C = C*P\n",
    "bar_D = D\n",
    "control.StateSpace(bar_A, bar_B, bar_C, bar_D)"
   ]
  },
  {
   "cell_type": "code",
   "execution_count": 203,
   "id": "36cb5de5",
   "metadata": {
    "scrolled": true
   },
   "outputs": [
    {
     "data": {
      "text/plain": [
       "False"
      ]
     },
     "execution_count": 203,
     "metadata": {},
     "output_type": "execute_result"
    }
   ],
   "source": [
    "# is base jordan form controllable?\n",
    "\n",
    "bar_B.row_join(bar_A*bar_B).det() != 0"
   ]
  },
  {
   "cell_type": "code",
   "execution_count": 204,
   "id": "7b9ee666",
   "metadata": {},
   "outputs": [
    {
     "data": {
      "text/latex": [
       "$\\displaystyle \\left[\\begin{matrix}-6 & 1 & 0 & 0 & 0\\\\0 & -6 & 0 & 0 & 0\\\\0 & 0 & -6 & 1 & 0\\\\0 & 0 & 0 & -6 & 0\\\\0 & 0 & 0 & 0 & 6\\end{matrix}\\right]$"
      ],
      "text/plain": [
       "Matrix([\n",
       "[-6,  1,  0,  0, 0],\n",
       "[ 0, -6,  0,  0, 0],\n",
       "[ 0,  0, -6,  1, 0],\n",
       "[ 0,  0,  0, -6, 0],\n",
       "[ 0,  0,  0,  0, 6]])"
      ]
     },
     "execution_count": 204,
     "metadata": {},
     "output_type": "execute_result"
    }
   ],
   "source": [
    "# reduce state variables\n",
    "\n",
    "# for a: row 0 = row 0 + row 4\n",
    "# del row 4\n",
    "# del column 4\n",
    "bar_A = bar_A.row_insert(0, bar_A.row(0) + bar_A.row(4))\n",
    "bar_A.row_del(1)\n",
    "bar_A.row_del(4)\n",
    "bar_A.col_del(4)\n",
    "bar_A"
   ]
  },
  {
   "cell_type": "code",
   "execution_count": 205,
   "id": "9ebe3abe",
   "metadata": {},
   "outputs": [
    {
     "data": {
      "text/latex": [
       "$\\displaystyle \\left[\\begin{matrix}9 & 1 & 9\\\\3 & 3 & 3\\\\1 & \\frac{11}{12} & 1\\\\0 & -1 & 0\\\\0 & \\frac{13}{12} & 0\\end{matrix}\\right]$"
      ],
      "text/plain": [
       "Matrix([\n",
       "[9,     1, 9],\n",
       "[3,     3, 3],\n",
       "[1, 11/12, 1],\n",
       "[0,    -1, 0],\n",
       "[0, 13/12, 0]])"
      ]
     },
     "execution_count": 205,
     "metadata": {},
     "output_type": "execute_result"
    }
   ],
   "source": [
    "# for b: row 0 = row 0 + row 4\n",
    "# del row 4\n",
    "bar_B = bar_B.row_insert(0, bar_B.row(0) + bar_B.row(4))\n",
    "bar_B.row_del(1)\n",
    "bar_B.row_del(4)\n",
    "bar_B"
   ]
  },
  {
   "cell_type": "code",
   "execution_count": 206,
   "id": "e604ee07",
   "metadata": {},
   "outputs": [
    {
     "data": {
      "text/latex": [
       "$\\displaystyle \\left[\\begin{matrix}1 & 0 & 0 & 0 & 0\\\\0 & 0 & 1 & 0 & 1\\end{matrix}\\right]$"
      ],
      "text/plain": [
       "Matrix([\n",
       "[1, 0, 0, 0, 0],\n",
       "[0, 0, 1, 0, 1]])"
      ]
     },
     "execution_count": 206,
     "metadata": {},
     "output_type": "execute_result"
    }
   ],
   "source": [
    "# reduce state variables\n",
    "\n",
    "# for c: del column 4\n",
    "bar_C.col_del(4)\n",
    "bar_C"
   ]
  },
  {
   "cell_type": "code",
   "execution_count": 207,
   "id": "d3f16d64",
   "metadata": {},
   "outputs": [
    {
     "data": {
      "text/latex": [
       "\\[\n",
       "\\left(\\begin{array}{rllrllrllrllrll|rllrllrll}\n",
       "-6\\phantom{.}&\\hspace{-1em}&\\hspace{-1em}\\phantom{\\cdot}&1\\phantom{.}&\\hspace{-1em}&\\hspace{-1em}\\phantom{\\cdot}&0\\phantom{.}&\\hspace{-1em}&\\hspace{-1em}\\phantom{\\cdot}&0\\phantom{.}&\\hspace{-1em}&\\hspace{-1em}\\phantom{\\cdot}&0\\phantom{.}&\\hspace{-1em}&\\hspace{-1em}\\phantom{\\cdot}&9\\phantom{.}&\\hspace{-1em}&\\hspace{-1em}\\phantom{\\cdot}&1\\phantom{.}&\\hspace{-1em}&\\hspace{-1em}\\phantom{\\cdot}&9\\phantom{.}&\\hspace{-1em}&\\hspace{-1em}\\phantom{\\cdot}\\\\\n",
       "0\\phantom{.}&\\hspace{-1em}&\\hspace{-1em}\\phantom{\\cdot}&-6\\phantom{.}&\\hspace{-1em}&\\hspace{-1em}\\phantom{\\cdot}&0\\phantom{.}&\\hspace{-1em}&\\hspace{-1em}\\phantom{\\cdot}&0\\phantom{.}&\\hspace{-1em}&\\hspace{-1em}\\phantom{\\cdot}&0\\phantom{.}&\\hspace{-1em}&\\hspace{-1em}\\phantom{\\cdot}&3\\phantom{.}&\\hspace{-1em}&\\hspace{-1em}\\phantom{\\cdot}&3\\phantom{.}&\\hspace{-1em}&\\hspace{-1em}\\phantom{\\cdot}&3\\phantom{.}&\\hspace{-1em}&\\hspace{-1em}\\phantom{\\cdot}\\\\\n",
       "0\\phantom{.}&\\hspace{-1em}&\\hspace{-1em}\\phantom{\\cdot}&0\\phantom{.}&\\hspace{-1em}&\\hspace{-1em}\\phantom{\\cdot}&-6\\phantom{.}&\\hspace{-1em}&\\hspace{-1em}\\phantom{\\cdot}&1\\phantom{.}&\\hspace{-1em}&\\hspace{-1em}\\phantom{\\cdot}&0\\phantom{.}&\\hspace{-1em}&\\hspace{-1em}\\phantom{\\cdot}&1\\phantom{.}&\\hspace{-1em}&\\hspace{-1em}\\phantom{\\cdot}&0.&\\hspace{-1em}917&\\hspace{-1em}\\phantom{\\cdot}&1\\phantom{.}&\\hspace{-1em}&\\hspace{-1em}\\phantom{\\cdot}\\\\\n",
       "0\\phantom{.}&\\hspace{-1em}&\\hspace{-1em}\\phantom{\\cdot}&0\\phantom{.}&\\hspace{-1em}&\\hspace{-1em}\\phantom{\\cdot}&0\\phantom{.}&\\hspace{-1em}&\\hspace{-1em}\\phantom{\\cdot}&-6\\phantom{.}&\\hspace{-1em}&\\hspace{-1em}\\phantom{\\cdot}&0\\phantom{.}&\\hspace{-1em}&\\hspace{-1em}\\phantom{\\cdot}&0\\phantom{.}&\\hspace{-1em}&\\hspace{-1em}\\phantom{\\cdot}&-1\\phantom{.}&\\hspace{-1em}&\\hspace{-1em}\\phantom{\\cdot}&0\\phantom{.}&\\hspace{-1em}&\\hspace{-1em}\\phantom{\\cdot}\\\\\n",
       "0\\phantom{.}&\\hspace{-1em}&\\hspace{-1em}\\phantom{\\cdot}&0\\phantom{.}&\\hspace{-1em}&\\hspace{-1em}\\phantom{\\cdot}&0\\phantom{.}&\\hspace{-1em}&\\hspace{-1em}\\phantom{\\cdot}&0\\phantom{.}&\\hspace{-1em}&\\hspace{-1em}\\phantom{\\cdot}&6\\phantom{.}&\\hspace{-1em}&\\hspace{-1em}\\phantom{\\cdot}&0\\phantom{.}&\\hspace{-1em}&\\hspace{-1em}\\phantom{\\cdot}&1.&\\hspace{-1em}08&\\hspace{-1em}\\phantom{\\cdot}&0\\phantom{.}&\\hspace{-1em}&\\hspace{-1em}\\phantom{\\cdot}\\\\\n",
       "\\hline\n",
       "1\\phantom{.}&\\hspace{-1em}&\\hspace{-1em}\\phantom{\\cdot}&0\\phantom{.}&\\hspace{-1em}&\\hspace{-1em}\\phantom{\\cdot}&0\\phantom{.}&\\hspace{-1em}&\\hspace{-1em}\\phantom{\\cdot}&0\\phantom{.}&\\hspace{-1em}&\\hspace{-1em}\\phantom{\\cdot}&0\\phantom{.}&\\hspace{-1em}&\\hspace{-1em}\\phantom{\\cdot}&0\\phantom{.}&\\hspace{-1em}&\\hspace{-1em}\\phantom{\\cdot}&0\\phantom{.}&\\hspace{-1em}&\\hspace{-1em}\\phantom{\\cdot}&0\\phantom{.}&\\hspace{-1em}&\\hspace{-1em}\\phantom{\\cdot}\\\\\n",
       "0\\phantom{.}&\\hspace{-1em}&\\hspace{-1em}\\phantom{\\cdot}&0\\phantom{.}&\\hspace{-1em}&\\hspace{-1em}\\phantom{\\cdot}&1\\phantom{.}&\\hspace{-1em}&\\hspace{-1em}\\phantom{\\cdot}&0\\phantom{.}&\\hspace{-1em}&\\hspace{-1em}\\phantom{\\cdot}&1\\phantom{.}&\\hspace{-1em}&\\hspace{-1em}\\phantom{\\cdot}&0\\phantom{.}&\\hspace{-1em}&\\hspace{-1em}\\phantom{\\cdot}&0\\phantom{.}&\\hspace{-1em}&\\hspace{-1em}\\phantom{\\cdot}&0\\phantom{.}&\\hspace{-1em}&\\hspace{-1em}\\phantom{\\cdot}\\\\\n",
       "\\end{array}\\right)\n",
       "\\]"
      ],
      "text/plain": [
       "StateSpace(array([[-6.,  1.,  0.,  0.,  0.],\n",
       "       [ 0., -6.,  0.,  0.,  0.],\n",
       "       [ 0.,  0., -6.,  1.,  0.],\n",
       "       [ 0.,  0.,  0., -6.,  0.],\n",
       "       [ 0.,  0.,  0.,  0.,  6.]]), array([[ 9.        ,  1.        ,  9.        ],\n",
       "       [ 3.        ,  3.        ,  3.        ],\n",
       "       [ 1.        ,  0.91666667,  1.        ],\n",
       "       [ 0.        , -1.        ,  0.        ],\n",
       "       [ 0.        ,  1.08333333,  0.        ]]), array([[1., 0., 0., 0., 0.],\n",
       "       [0., 0., 1., 0., 1.]]), array([[0., 0., 0.],\n",
       "       [0., 0., 0.]]))"
      ]
     },
     "execution_count": 207,
     "metadata": {},
     "output_type": "execute_result"
    }
   ],
   "source": [
    "# finally for conciseness:\n",
    "control.StateSpace(bar_A, bar_B, bar_C, bar_D)"
   ]
  },
  {
   "cell_type": "code",
   "execution_count": 208,
   "id": "ea236090",
   "metadata": {},
   "outputs": [],
   "source": [
    "s = sympy.symbols('s')"
   ]
  },
  {
   "cell_type": "code",
   "execution_count": 209,
   "id": "5b3fed6d",
   "metadata": {},
   "outputs": [
    {
     "data": {
      "text/latex": [
       "$\\displaystyle \\frac{1}{\\left(s - 6\\right) \\left(s + 6\\right)^{2}}$"
      ],
      "text/plain": [
       "1/((s - 6)*(s + 6)**2)"
      ]
     },
     "execution_count": 209,
     "metadata": {},
     "output_type": "execute_result"
    }
   ],
   "source": [
    "denominator = (s+6) * (s+6) * (s-6)\n",
    "1/denominator"
   ]
  },
  {
   "cell_type": "code",
   "execution_count": 210,
   "id": "ce93559a",
   "metadata": {},
   "outputs": [
    {
     "data": {
      "text/latex": [
       "$\\displaystyle \\left[\\begin{matrix}9 s^{2} + 3 s - 342 & s^{2} + 3 s - 54 & 9 s^{2} + 3 s - 342\\\\s^{2} - 36 & 2 s^{2} + 12 s + 12 & s^{2} - 36\\end{matrix}\\right]$"
      ],
      "text/plain": [
       "Matrix([\n",
       "[9*s**2 + 3*s - 342,    s**2 + 3*s - 54, 9*s**2 + 3*s - 342],\n",
       "[         s**2 - 36, 2*s**2 + 12*s + 12,          s**2 - 36]])"
      ]
     },
     "execution_count": 210,
     "metadata": {},
     "output_type": "execute_result"
    }
   ],
   "source": [
    "tf_new = sympy.simplify(bar_C * (s*sympy.eye(5) - bar_A).inv() * bar_B * denominator)\n",
    "tf_new"
   ]
  },
  {
   "cell_type": "code",
   "execution_count": 211,
   "id": "2bfe9b18",
   "metadata": {},
   "outputs": [
    {
     "data": {
      "text/latex": [
       "$\\displaystyle \\left[\\begin{matrix}9 s^{2} + 3 s - 342 & s^{2} + 3 s - 54 & 9 s^{2} + 3 s - 342\\\\s^{2} - 36 & 2 s^{2} + 12 s + 12 & s^{2} - 36\\end{matrix}\\right]$"
      ],
      "text/plain": [
       "Matrix([\n",
       "[9*s**2 + 3*s - 342,    s**2 + 3*s - 54, 9*s**2 + 3*s - 342],\n",
       "[         s**2 - 36, 2*s**2 + 12*s + 12,          s**2 - 36]])"
      ]
     },
     "execution_count": 211,
     "metadata": {},
     "output_type": "execute_result"
    }
   ],
   "source": [
    "tf_old = sympy.simplify(C * (s*sympy.eye(6) - A).inv() * B * denominator)\n",
    "tf_old"
   ]
  },
  {
   "cell_type": "code",
   "execution_count": 212,
   "id": "79c13a8a",
   "metadata": {},
   "outputs": [
    {
     "data": {
      "text/plain": [
       "True"
      ]
     },
     "execution_count": 212,
     "metadata": {},
     "output_type": "execute_result"
    }
   ],
   "source": [
    "tf_old == tf_new"
   ]
  },
  {
   "cell_type": "code",
   "execution_count": 213,
   "id": "5f6e1569",
   "metadata": {},
   "outputs": [
    {
     "name": "stdout",
     "output_type": "stream",
     "text": [
      "\\left[\\begin{matrix}-6 & 1 & 0 & 0 & 0\\\\0 & -6 & 0 & 0 & 0\\\\0 & 0 & -6 & 1 & 0\\\\0 & 0 & 0 & -6 & 0\\\\0 & 0 & 0 & 0 & 6\\end{matrix}\\right]\n",
      "\n",
      "\\left[\\begin{matrix}9 & 1 & 9\\\\3 & 3 & 3\\\\1 & \\frac{11}{12} & 1\\\\0 & -1 & 0\\\\0 & \\frac{13}{12} & 0\\end{matrix}\\right]\n",
      "\n",
      "\\left[\\begin{matrix}1 & 0 & 0 & 0 & 0\\\\0 & 0 & 1 & 0 & 1\\end{matrix}\\right]\n",
      "\n",
      "\\left[\\begin{matrix}0 & 0 & 0\\\\0 & 0 & 0\\end{matrix}\\right]\n"
     ]
    }
   ],
   "source": [
    "print(sympy.latex(bar_A))\n",
    "print()\n",
    "print(sympy.latex(bar_B))\n",
    "print()\n",
    "print(sympy.latex(bar_C))\n",
    "print()\n",
    "print(sympy.latex(bar_D))"
   ]
  },
  {
   "cell_type": "code",
   "execution_count": 214,
   "id": "810b039e",
   "metadata": {},
   "outputs": [
    {
     "name": "stdout",
     "output_type": "stream",
     "text": [
      "\\left[\\begin{matrix}s + 6 & -1 & 0 & 0 & 0\\\\0 & s + 6 & 0 & 0 & 0\\\\0 & 0 & s + 6 & -1 & 0\\\\0 & 0 & 0 & s + 6 & 0\\\\0 & 0 & 0 & 0 & s - 6\\end{matrix}\\right]\n"
     ]
    }
   ],
   "source": [
    "print(sympy.latex(s*sympy.eye(5) - bar_A))"
   ]
  },
  {
   "cell_type": "code",
   "execution_count": 217,
   "id": "878eaddb",
   "metadata": {},
   "outputs": [
    {
     "name": "stdout",
     "output_type": "stream",
     "text": [
      "\\left[\\begin{matrix}\\frac{1}{s + 6} & \\frac{1}{s^{2} + 12 s + 36} & 0 & 0 & 0\\\\0 & \\frac{1}{s + 6} & 0 & 0 & 0\\\\0 & 0 & \\frac{1}{s + 6} & \\frac{1}{s^{2} + 12 s + 36} & 0\\\\0 & 0 & 0 & \\frac{1}{s + 6} & 0\\\\0 & 0 & 0 & 0 & \\frac{1}{s - 6}\\end{matrix}\\right]\n"
     ]
    }
   ],
   "source": [
    "print(sympy.latex(sympy.simplify((s*sympy.eye(5) - bar_A).inv())))"
   ]
  },
  {
   "cell_type": "code",
   "execution_count": 219,
   "id": "0b6a2162",
   "metadata": {},
   "outputs": [
    {
     "name": "stdout",
     "output_type": "stream",
     "text": [
      "\\left[\\begin{matrix}\\frac{3 \\left(3 s + 19\\right)}{s^{2} + 12 s + 36} & \\frac{s + 9}{s^{2} + 12 s + 36} & \\frac{3 \\left(3 s + 19\\right)}{s^{2} + 12 s + 36}\\\\\\frac{3}{s + 6} & \\frac{3}{s + 6} & \\frac{3}{s + 6}\\\\\\frac{1}{s + 6} & \\frac{11 s + 54}{12 \\left(s^{2} + 12 s + 36\\right)} & \\frac{1}{s + 6}\\\\0 & - \\frac{1}{s + 6} & 0\\\\0 & \\frac{13}{12 \\left(s - 6\\right)} & 0\\end{matrix}\\right]\n"
     ]
    }
   ],
   "source": [
    "print(sympy.latex(sympy.simplify((s*sympy.eye(5) - bar_A).inv()*bar_B)))"
   ]
  },
  {
   "cell_type": "code",
   "execution_count": 220,
   "id": "f239faaa",
   "metadata": {},
   "outputs": [
    {
     "name": "stdout",
     "output_type": "stream",
     "text": [
      "\\left[\\begin{matrix}\\frac{3 \\left(3 s + 19\\right)}{s^{2} + 12 s + 36} & \\frac{s + 9}{s^{2} + 12 s + 36} & \\frac{3 \\left(3 s + 19\\right)}{s^{2} + 12 s + 36}\\\\\\frac{1}{s + 6} & \\frac{2 \\left(s^{2} + 6 s + 6\\right)}{s^{3} + 6 s^{2} - 36 s - 216} & \\frac{1}{s + 6}\\end{matrix}\\right]\n"
     ]
    }
   ],
   "source": [
    "print(sympy.latex(sympy.simplify(bar_C*(s*sympy.eye(5) - bar_A).inv()*bar_B)))"
   ]
  },
  {
   "cell_type": "code",
   "execution_count": 221,
   "id": "e4aba218",
   "metadata": {},
   "outputs": [
    {
     "name": "stdout",
     "output_type": "stream",
     "text": [
      "\\left[\\begin{matrix}9 s^{2} + 3 s - 342 & s^{2} + 3 s - 54 & 9 s^{2} + 3 s - 342\\\\s^{2} - 36 & 2 s^{2} + 12 s + 12 & s^{2} - 36\\end{matrix}\\right]\n"
     ]
    }
   ],
   "source": [
    "print(sympy.latex(sympy.simplify(C * (s*sympy.eye(6) - A).inv() * B * denominator)))"
   ]
  },
  {
   "cell_type": "markdown",
   "id": "e4a59ff7",
   "metadata": {},
   "source": [
    "# problem 3\n"
   ]
  },
  {
   "cell_type": "code",
   "execution_count": 223,
   "id": "78c49dab",
   "metadata": {},
   "outputs": [
    {
     "data": {
      "text/latex": [
       "$\\displaystyle \\left[\\begin{matrix}- \\frac{s}{\\left(s + 1\\right)^{2}} & \\frac{1}{s + 1}\\\\\\frac{2 s + 1}{s \\left(s + 1\\right)} & \\frac{1}{s + 1}\\end{matrix}\\right]$"
      ],
      "text/plain": [
       "Matrix([\n",
       "[        -s/(s + 1)**2, 1/(s + 1)],\n",
       "[(2*s + 1)/(s*(s + 1)), 1/(s + 1)]])"
      ]
     },
     "execution_count": 223,
     "metadata": {},
     "output_type": "execute_result"
    }
   ],
   "source": [
    "h_s = ( \n",
    "    (1/(s * ((s+1)**2))) * \n",
    "     sympy.Matrix([\n",
    "         [-s*s, s*(s+1)],\n",
    "         [(2*s+1)*(s+1), s*(s+1)]\n",
    "     ])\n",
    ")\n",
    "h_s"
   ]
  },
  {
   "cell_type": "code",
   "execution_count": 226,
   "id": "3c8cd2cf",
   "metadata": {},
   "outputs": [
    {
     "data": {
      "text/latex": [
       "$\\displaystyle \\left[\\begin{matrix}- \\frac{1}{s + 1} + \\frac{1}{\\left(s + 1\\right)^{2}} & \\frac{1}{s + 1}\\\\\\frac{1}{s + 1} + \\frac{1}{s} & \\frac{1}{s + 1}\\end{matrix}\\right]$"
      ],
      "text/plain": [
       "Matrix([\n",
       "[-1/(s + 1) + (s + 1)**(-2), 1/(s + 1)],\n",
       "[           1/(s + 1) + 1/s, 1/(s + 1)]])"
      ]
     },
     "execution_count": 226,
     "metadata": {},
     "output_type": "execute_result"
    }
   ],
   "source": [
    "sympy.apart(h_s)"
   ]
  },
  {
   "cell_type": "code",
   "execution_count": 228,
   "id": "ec0004e7",
   "metadata": {},
   "outputs": [
    {
     "name": "stdout",
     "output_type": "stream",
     "text": [
      "\\left[\\begin{matrix}- \\frac{1}{s + 1} + \\frac{1}{\\left(s + 1\\right)^{2}} & \\frac{1}{s + 1}\\\\\\frac{1}{s + 1} + \\frac{1}{s} & \\frac{1}{s + 1}\\end{matrix}\\right]\n"
     ]
    }
   ],
   "source": [
    "print(sympy.latex(sympy.apart(h_s)))"
   ]
  },
  {
   "cell_type": "code",
   "execution_count": null,
   "id": "01bff92e",
   "metadata": {},
   "outputs": [],
   "source": []
  }
 ],
 "metadata": {
  "kernelspec": {
   "display_name": "Python 3",
   "language": "python",
   "name": "python3"
  },
  "language_info": {
   "codemirror_mode": {
    "name": "ipython",
    "version": 3
   },
   "file_extension": ".py",
   "mimetype": "text/x-python",
   "name": "python",
   "nbconvert_exporter": "python",
   "pygments_lexer": "ipython3",
   "version": "3.10.4"
  }
 },
 "nbformat": 4,
 "nbformat_minor": 5
}
