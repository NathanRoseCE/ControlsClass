{
 "cells": [
  {
   "cell_type": "code",
   "execution_count": 41,
   "id": "e1f966b2",
   "metadata": {},
   "outputs": [],
   "source": [
    "import sympy"
   ]
  },
  {
   "cell_type": "code",
   "execution_count": 42,
   "id": "00316cd4",
   "metadata": {},
   "outputs": [],
   "source": [
    "def get_k_3(A: sympy.Matrix, \n",
    "          B: sympy.Matrix, \n",
    "          tmp_2: sympy.Matrix,\n",
    "          bar_k: sympy.Matrix) -> sympy.Matrix:\n",
    "    tmp = B.row_join(A*B).row_join(A*A*B)\n",
    "    Q = tmp*tmp_2\n",
    "    P = Q.inv()\n",
    "    return bar_k * P\n",
    "def get_k_2(A: sympy.Matrix, \n",
    "          B: sympy.Matrix, \n",
    "          tmp_2: sympy.Matrix,\n",
    "          bar_k: sympy.Matrix) -> sympy.Matrix:\n",
    "    tmp = B.row_join(A*B)\n",
    "    Q = tmp*tmp_2\n",
    "    P = Q.inv()\n",
    "    return bar_k * P"
   ]
  },
  {
   "cell_type": "markdown",
   "id": "707b657e",
   "metadata": {},
   "source": [
    "# problem 1\n"
   ]
  },
  {
   "cell_type": "code",
   "execution_count": 43,
   "id": "b29e3347",
   "metadata": {},
   "outputs": [],
   "source": [
    "A = sympy.Matrix([\n",
    "    [2, 1, 0],\n",
    "    [0, 2, 1],\n",
    "    [0, 0, 2]\n",
    "])\n",
    "B = sympy.Matrix([\n",
    "    [0],\n",
    "    [0],\n",
    "    [1]\n",
    "])\n",
    "bar_k = sympy.Matrix([\n",
    "    [9, -9, 9]\n",
    "])"
   ]
  },
  {
   "cell_type": "code",
   "execution_count": 44,
   "id": "7e9a8ca4",
   "metadata": {},
   "outputs": [
    {
     "data": {
      "text/latex": [
       "$\\displaystyle \\left[\\begin{matrix}0 & 0 & 1\\\\0 & 1 & 4\\\\1 & 2 & 4\\end{matrix}\\right]$"
      ],
      "text/plain": [
       "Matrix([\n",
       "[0, 0, 1],\n",
       "[0, 1, 4],\n",
       "[1, 2, 4]])"
      ]
     },
     "execution_count": 44,
     "metadata": {},
     "output_type": "execute_result"
    }
   ],
   "source": [
    "tmp = B.row_join(A*B).row_join(A*A*B)\n",
    "tmp"
   ]
  },
  {
   "cell_type": "code",
   "execution_count": 45,
   "id": "23f9b5ef",
   "metadata": {},
   "outputs": [
    {
     "data": {
      "text/latex": [
       "$\\displaystyle \\left[\\begin{matrix}1 & -6 & 12\\\\0 & 1 & -6\\\\0 & 0 & 1\\end{matrix}\\right]$"
      ],
      "text/plain": [
       "Matrix([\n",
       "[1, -6, 12],\n",
       "[0,  1, -6],\n",
       "[0,  0,  1]])"
      ]
     },
     "execution_count": 45,
     "metadata": {},
     "output_type": "execute_result"
    }
   ],
   "source": [
    "tmp_2 = sympy.Matrix([\n",
    "    [1, -6, 12],\n",
    "    [0, 1, -6],\n",
    "    [0, 0, 1]\n",
    "])\n",
    "tmp_2"
   ]
  },
  {
   "cell_type": "code",
   "execution_count": 46,
   "id": "a6c8ca0a",
   "metadata": {},
   "outputs": [
    {
     "data": {
      "text/latex": [
       "$\\displaystyle \\left[\\begin{matrix}0 & 0 & 1\\\\0 & 1 & -2\\\\1 & -4 & 4\\end{matrix}\\right]$"
      ],
      "text/plain": [
       "Matrix([\n",
       "[0,  0,  1],\n",
       "[0,  1, -2],\n",
       "[1, -4,  4]])"
      ]
     },
     "execution_count": 46,
     "metadata": {},
     "output_type": "execute_result"
    }
   ],
   "source": [
    "Q = tmp*tmp_2\n",
    "Q"
   ]
  },
  {
   "cell_type": "code",
   "execution_count": 47,
   "id": "9fbd3037",
   "metadata": {},
   "outputs": [
    {
     "data": {
      "text/latex": [
       "$\\displaystyle \\left[\\begin{matrix}4 & 4 & 1\\\\2 & 1 & 0\\\\1 & 0 & 0\\end{matrix}\\right]$"
      ],
      "text/plain": [
       "Matrix([\n",
       "[4, 4, 1],\n",
       "[2, 1, 0],\n",
       "[1, 0, 0]])"
      ]
     },
     "execution_count": 47,
     "metadata": {},
     "output_type": "execute_result"
    }
   ],
   "source": [
    "P = Q.inv()\n",
    "P"
   ]
  },
  {
   "cell_type": "code",
   "execution_count": 48,
   "id": "bc3666af",
   "metadata": {},
   "outputs": [
    {
     "data": {
      "text/latex": [
       "$\\displaystyle \\left[\\begin{matrix}27 & 27 & 9\\end{matrix}\\right]$"
      ],
      "text/plain": [
       "Matrix([[27, 27, 9]])"
      ]
     },
     "execution_count": 48,
     "metadata": {},
     "output_type": "execute_result"
    }
   ],
   "source": [
    "k = bar_k * P\n",
    "k"
   ]
  },
  {
   "cell_type": "code",
   "execution_count": 49,
   "id": "0c0a4682",
   "metadata": {},
   "outputs": [
    {
     "data": {
      "text/latex": [
       "$\\displaystyle \\left[\\begin{matrix}27 & 27 & 9\\end{matrix}\\right]$"
      ],
      "text/plain": [
       "Matrix([[27, 27, 9]])"
      ]
     },
     "execution_count": 49,
     "metadata": {},
     "output_type": "execute_result"
    }
   ],
   "source": [
    "get_k_3(A, B, tmp_2, bar_k)"
   ]
  },
  {
   "cell_type": "code",
   "execution_count": 50,
   "id": "3cbf25f5",
   "metadata": {},
   "outputs": [
    {
     "data": {
      "text/latex": [
       "$\\displaystyle \\left[\\begin{matrix}2 & 1 & 0\\\\0 & 2 & 1\\\\-27 & -27 & -7\\end{matrix}\\right]$"
      ],
      "text/plain": [
       "Matrix([\n",
       "[  2,   1,  0],\n",
       "[  0,   2,  1],\n",
       "[-27, -27, -7]])"
      ]
     },
     "execution_count": 50,
     "metadata": {},
     "output_type": "execute_result"
    }
   ],
   "source": [
    "A_ctrld = A - B*k\n",
    "A_ctrld"
   ]
  },
  {
   "cell_type": "code",
   "execution_count": 51,
   "id": "d83401bc",
   "metadata": {},
   "outputs": [
    {
     "data": {
      "text/plain": [
       "{-1: 3}"
      ]
     },
     "execution_count": 51,
     "metadata": {},
     "output_type": "execute_result"
    }
   ],
   "source": [
    "A_ctrld.eigenvals()"
   ]
  },
  {
   "cell_type": "markdown",
   "id": "a3f75694",
   "metadata": {},
   "source": [
    "# Problem 2-1"
   ]
  },
  {
   "cell_type": "code",
   "execution_count": 52,
   "id": "d83bafed",
   "metadata": {},
   "outputs": [],
   "source": [
    "A_2 = sympy.Matrix([\n",
    "    [-2, -2, 0],\n",
    "    [0, 0, 1],\n",
    "    [0, -3, -4]\n",
    "])\n",
    "B_2 = sympy.Matrix([\n",
    "    [1, 0],\n",
    "    [0, 0],\n",
    "    [0, 1]\n",
    "])"
   ]
  },
  {
   "cell_type": "code",
   "execution_count": 53,
   "id": "a37f6cef",
   "metadata": {},
   "outputs": [],
   "source": [
    "tmp_21 = sympy.Matrix([\n",
    "    [1,0,0],\n",
    "    [0,0,-3],\n",
    "])\n",
    "tmp_22 = sympy.Matrix([\n",
    "    [1, 2, 1],\n",
    "    [0, 1, 1],\n",
    "    [0, -3, -4]\n",
    "])"
   ]
  },
  {
   "cell_type": "code",
   "execution_count": 54,
   "id": "ede10ad0",
   "metadata": {},
   "outputs": [
    {
     "data": {
      "text/latex": [
       "$\\displaystyle \\left[\\begin{matrix}1 & -5 & -1\\\\0 & 9 & 3\\end{matrix}\\right]$"
      ],
      "text/plain": [
       "Matrix([\n",
       "[1, -5, -1],\n",
       "[0,  9,  3]])"
      ]
     },
     "execution_count": 54,
     "metadata": {},
     "output_type": "execute_result"
    }
   ],
   "source": [
    "k_2 = tmp_21 * tmp_22.inv()\n",
    "k_2"
   ]
  },
  {
   "cell_type": "code",
   "execution_count": 55,
   "id": "ab73b6d5",
   "metadata": {},
   "outputs": [
    {
     "data": {
      "text/latex": [
       "$\\displaystyle \\left[\\begin{matrix}-3 & 3 & 1\\\\0 & 0 & 1\\\\0 & -12 & -7\\end{matrix}\\right]$"
      ],
      "text/plain": [
       "Matrix([\n",
       "[-3,   3,  1],\n",
       "[ 0,   0,  1],\n",
       "[ 0, -12, -7]])"
      ]
     },
     "execution_count": 55,
     "metadata": {},
     "output_type": "execute_result"
    }
   ],
   "source": [
    "(A_2 - B_2*k_2)"
   ]
  },
  {
   "cell_type": "code",
   "execution_count": 56,
   "id": "d3eacc49",
   "metadata": {},
   "outputs": [
    {
     "data": {
      "text/plain": [
       "{-3: 2, -4: 1}"
      ]
     },
     "execution_count": 56,
     "metadata": {},
     "output_type": "execute_result"
    }
   ],
   "source": [
    "(A_2 - B_2*k_2).eigenvals()"
   ]
  },
  {
   "cell_type": "markdown",
   "id": "de6e8dcb",
   "metadata": {},
   "source": [
    "# Question 2-2"
   ]
  },
  {
   "cell_type": "code",
   "execution_count": 57,
   "id": "e4ad81f8",
   "metadata": {},
   "outputs": [],
   "source": [
    "bar_v = sympy.Matrix([\n",
    "    [0],\n",
    "    [1]\n",
    "])\n",
    "bar_k = sympy.Matrix([\n",
    "    [4, 22, 30]\n",
    "])"
   ]
  },
  {
   "cell_type": "code",
   "execution_count": 58,
   "id": "16107f53",
   "metadata": {},
   "outputs": [
    {
     "data": {
      "text/latex": [
       "$\\displaystyle \\left[\\begin{matrix}0 & 0 & -2\\\\0 & 1 & -4\\\\1 & -4 & 13\\end{matrix}\\right]$"
      ],
      "text/plain": [
       "Matrix([\n",
       "[0,  0, -2],\n",
       "[0,  1, -4],\n",
       "[1, -4, 13]])"
      ]
     },
     "execution_count": 58,
     "metadata": {},
     "output_type": "execute_result"
    }
   ],
   "source": [
    "Bv = B_2 * bar_v\n",
    "tmp_3 = Bv.row_join(A_2*Bv).row_join(A_2*A_2*Bv)\n",
    "tmp_3"
   ]
  },
  {
   "cell_type": "code",
   "execution_count": 59,
   "id": "e301626a",
   "metadata": {},
   "outputs": [
    {
     "data": {
      "text/latex": [
       "$\\displaystyle \\left[\\begin{matrix}1 & 6 & 11\\\\0 & 1 & 6\\\\0 & 0 & 1\\end{matrix}\\right]$"
      ],
      "text/plain": [
       "Matrix([\n",
       "[1, 6, 11],\n",
       "[0, 1,  6],\n",
       "[0, 0,  1]])"
      ]
     },
     "execution_count": 59,
     "metadata": {},
     "output_type": "execute_result"
    }
   ],
   "source": [
    "tmp_4 = sympy.Matrix([\n",
    "    [1, 6, 11],\n",
    "    [0, 1, 6],\n",
    "    [0, 0, 1]\n",
    "])\n",
    "tmp_4"
   ]
  },
  {
   "cell_type": "code",
   "execution_count": 60,
   "id": "f34f3daf",
   "metadata": {},
   "outputs": [
    {
     "data": {
      "text/latex": [
       "$\\displaystyle \\left[\\begin{matrix}0 & 0 & -2\\\\0 & 1 & 2\\\\1 & 2 & 0\\end{matrix}\\right]$"
      ],
      "text/plain": [
       "Matrix([\n",
       "[0, 0, -2],\n",
       "[0, 1,  2],\n",
       "[1, 2,  0]])"
      ]
     },
     "execution_count": 60,
     "metadata": {},
     "output_type": "execute_result"
    }
   ],
   "source": [
    "Q = tmp_3*tmp_4\n",
    "Q"
   ]
  },
  {
   "cell_type": "code",
   "execution_count": 61,
   "id": "5b0b3339",
   "metadata": {},
   "outputs": [
    {
     "data": {
      "text/latex": [
       "$\\displaystyle \\left[\\begin{matrix}-2 & -2 & 1\\\\1 & 1 & 0\\\\- \\frac{1}{2} & 0 & 0\\end{matrix}\\right]$"
      ],
      "text/plain": [
       "Matrix([\n",
       "[  -2, -2, 1],\n",
       "[   1,  1, 0],\n",
       "[-1/2,  0, 0]])"
      ]
     },
     "execution_count": 61,
     "metadata": {},
     "output_type": "execute_result"
    }
   ],
   "source": [
    "P = Q.inv()\n",
    "P"
   ]
  },
  {
   "cell_type": "code",
   "execution_count": 62,
   "id": "e467c118",
   "metadata": {},
   "outputs": [
    {
     "data": {
      "text/latex": [
       "$\\displaystyle \\left[\\begin{matrix}-1 & 14 & 4\\end{matrix}\\right]$"
      ],
      "text/plain": [
       "Matrix([[-1, 14, 4]])"
      ]
     },
     "execution_count": 62,
     "metadata": {},
     "output_type": "execute_result"
    }
   ],
   "source": [
    "k = bar_k * P\n",
    "k"
   ]
  },
  {
   "cell_type": "code",
   "execution_count": 63,
   "id": "df2fe1ef",
   "metadata": {},
   "outputs": [
    {
     "data": {
      "text/latex": [
       "$\\displaystyle \\left[\\begin{matrix}-1 & 14 & 4\\end{matrix}\\right]$"
      ],
      "text/plain": [
       "Matrix([[-1, 14, 4]])"
      ]
     },
     "execution_count": 63,
     "metadata": {},
     "output_type": "execute_result"
    }
   ],
   "source": [
    "k = get_k_3(A_2, Bv, tmp_4, bar_k)\n",
    "k"
   ]
  },
  {
   "cell_type": "code",
   "execution_count": 40,
   "id": "d4aebd1d",
   "metadata": {},
   "outputs": [
    {
     "data": {
      "text/plain": [
       "{-4: 1, -3: 2}"
      ]
     },
     "execution_count": 40,
     "metadata": {},
     "output_type": "execute_result"
    }
   ],
   "source": [
    "(A_2 - Bv*k).eigenvals()"
   ]
  },
  {
   "cell_type": "code",
   "execution_count": 26,
   "id": "020848e2",
   "metadata": {},
   "outputs": [
    {
     "data": {
      "text/latex": [
       "$\\displaystyle \\left[\\begin{matrix}0 & 0 & 0\\\\-1 & 14 & 4\\\\4 & -56 & -16\\end{matrix}\\right]$"
      ],
      "text/plain": [
       "Matrix([\n",
       "[ 0,   0,   0],\n",
       "[-1,  14,   4],\n",
       "[ 4, -56, -16]])"
      ]
     },
     "execution_count": 26,
     "metadata": {},
     "output_type": "execute_result"
    }
   ],
   "source": [
    "A_2 * B_2*bar_v*k"
   ]
  },
  {
   "cell_type": "code",
   "execution_count": 27,
   "id": "0b05003f",
   "metadata": {},
   "outputs": [
    {
     "data": {
      "text/plain": [
       "{0: 2, -2: 1}"
      ]
     },
     "execution_count": 27,
     "metadata": {},
     "output_type": "execute_result"
    }
   ],
   "source": [
    "(A_2 * B_2*bar_v*k).eigenvals()"
   ]
  },
  {
   "cell_type": "markdown",
   "id": "b694b9a7",
   "metadata": {},
   "source": [
    "# Question 3"
   ]
  },
  {
   "cell_type": "code",
   "execution_count": 28,
   "id": "0bc4424f",
   "metadata": {},
   "outputs": [],
   "source": [
    "A = sympy.Matrix([\n",
    "    [-2, 1],\n",
    "    [0, -1]\n",
    "])\n",
    "B = sympy.Matrix([\n",
    "    [0],\n",
    "    [1]\n",
    "])"
   ]
  },
  {
   "cell_type": "markdown",
   "id": "d81bddbc",
   "metadata": {},
   "source": [
    "# Question 4\n"
   ]
  },
  {
   "cell_type": "code",
   "execution_count": 79,
   "id": "a38e542c",
   "metadata": {},
   "outputs": [],
   "source": [
    "A = sympy.Matrix([\n",
    "    [-2, 1],\n",
    "    [0, -1]\n",
    "])\n",
    "B = sympy.Matrix([\n",
    "    [0],\n",
    "    [1]\n",
    "])\n",
    "bar_k = sympy.Matrix([\n",
    "    [5, 14]\n",
    "])\n",
    "tmp_2 = sympy.Matrix([\n",
    "    [1, 3],\n",
    "    [0, 1]\n",
    "])"
   ]
  },
  {
   "cell_type": "code",
   "execution_count": 80,
   "id": "56b7954e",
   "metadata": {},
   "outputs": [
    {
     "data": {
      "text/latex": [
       "$\\displaystyle \\left[\\begin{matrix}4 & 5\\end{matrix}\\right]$"
      ],
      "text/plain": [
       "Matrix([[4, 5]])"
      ]
     },
     "execution_count": 80,
     "metadata": {},
     "output_type": "execute_result"
    }
   ],
   "source": [
    "k = get_k_2(A, B, tmp_2, bar_k)\n",
    "k"
   ]
  },
  {
   "cell_type": "code",
   "execution_count": 82,
   "id": "f35aec4c",
   "metadata": {},
   "outputs": [
    {
     "data": {
      "text/latex": [
       "$\\displaystyle \\left[\\begin{matrix}-2 & 1\\\\-4 & -6\\end{matrix}\\right]$"
      ],
      "text/plain": [
       "Matrix([\n",
       "[-2,  1],\n",
       "[-4, -6]])"
      ]
     },
     "execution_count": 82,
     "metadata": {},
     "output_type": "execute_result"
    }
   ],
   "source": [
    "(A - B*k)"
   ]
  },
  {
   "cell_type": "code",
   "execution_count": 83,
   "id": "60ecad3f",
   "metadata": {},
   "outputs": [
    {
     "data": {
      "text/plain": [
       "{-4: 2}"
      ]
     },
     "execution_count": 83,
     "metadata": {},
     "output_type": "execute_result"
    }
   ],
   "source": [
    "(A - B*k).eigenvals()"
   ]
  },
  {
   "cell_type": "code",
   "execution_count": null,
   "id": "80d4a65b",
   "metadata": {},
   "outputs": [],
   "source": []
  }
 ],
 "metadata": {
  "kernelspec": {
   "display_name": "Python 3",
   "language": "python",
   "name": "python3"
  },
  "language_info": {
   "codemirror_mode": {
    "name": "ipython",
    "version": 3
   },
   "file_extension": ".py",
   "mimetype": "text/x-python",
   "name": "python",
   "nbconvert_exporter": "python",
   "pygments_lexer": "ipython3",
   "version": "3.10.4"
  }
 },
 "nbformat": 4,
 "nbformat_minor": 5
}
