{
 "cells": [
  {
   "cell_type": "code",
   "execution_count": 1,
   "id": "e1f966b2",
   "metadata": {},
   "outputs": [],
   "source": [
    "import sympy"
   ]
  },
  {
   "cell_type": "markdown",
   "id": "707b657e",
   "metadata": {},
   "source": [
    "# problem 1\n"
   ]
  },
  {
   "cell_type": "code",
   "execution_count": 30,
   "id": "b29e3347",
   "metadata": {},
   "outputs": [],
   "source": [
    "A = sympy.Matrix([\n",
    "    [2, 1, 0],\n",
    "    [0, 2, 1],\n",
    "    [0, 0, 2]\n",
    "])\n",
    "B = sympy.Matrix([\n",
    "    [0],\n",
    "    [0],\n",
    "    [1]\n",
    "])\n",
    "bar_k = sympy.Matrix([\n",
    "    [9, -9, 9]\n",
    "])"
   ]
  },
  {
   "cell_type": "code",
   "execution_count": 31,
   "id": "7e9a8ca4",
   "metadata": {},
   "outputs": [
    {
     "data": {
      "text/latex": [
       "$\\displaystyle \\left[\\begin{matrix}0 & 0 & 1\\\\0 & 1 & 4\\\\1 & 2 & 4\\end{matrix}\\right]$"
      ],
      "text/plain": [
       "Matrix([\n",
       "[0, 0, 1],\n",
       "[0, 1, 4],\n",
       "[1, 2, 4]])"
      ]
     },
     "execution_count": 31,
     "metadata": {},
     "output_type": "execute_result"
    }
   ],
   "source": [
    "tmp = B.row_join(A*B).row_join(A*A*B)\n",
    "tmp"
   ]
  },
  {
   "cell_type": "code",
   "execution_count": 38,
   "id": "23f9b5ef",
   "metadata": {},
   "outputs": [
    {
     "data": {
      "text/latex": [
       "$\\displaystyle \\left[\\begin{matrix}1 & -6 & 12\\\\0 & 1 & -6\\\\0 & 0 & 1\\end{matrix}\\right]$"
      ],
      "text/plain": [
       "Matrix([\n",
       "[1, -6, 12],\n",
       "[0,  1, -6],\n",
       "[0,  0,  1]])"
      ]
     },
     "execution_count": 38,
     "metadata": {},
     "output_type": "execute_result"
    }
   ],
   "source": [
    "tmp_2 = sympy.Matrix([\n",
    "    [1, -6, 12],\n",
    "    [0, 1, -6],\n",
    "    [0, 0, 1]\n",
    "])\n",
    "tmp_2"
   ]
  },
  {
   "cell_type": "code",
   "execution_count": 39,
   "id": "a6c8ca0a",
   "metadata": {},
   "outputs": [
    {
     "data": {
      "text/latex": [
       "$\\displaystyle \\left[\\begin{matrix}0 & 0 & 1\\\\0 & 1 & -2\\\\1 & -4 & 4\\end{matrix}\\right]$"
      ],
      "text/plain": [
       "Matrix([\n",
       "[0,  0,  1],\n",
       "[0,  1, -2],\n",
       "[1, -4,  4]])"
      ]
     },
     "execution_count": 39,
     "metadata": {},
     "output_type": "execute_result"
    }
   ],
   "source": [
    "Q = tmp*tmp_2\n",
    "Q"
   ]
  },
  {
   "cell_type": "code",
   "execution_count": 40,
   "id": "9fbd3037",
   "metadata": {},
   "outputs": [
    {
     "data": {
      "text/latex": [
       "$\\displaystyle \\left[\\begin{matrix}4 & 4 & 1\\\\2 & 1 & 0\\\\1 & 0 & 0\\end{matrix}\\right]$"
      ],
      "text/plain": [
       "Matrix([\n",
       "[4, 4, 1],\n",
       "[2, 1, 0],\n",
       "[1, 0, 0]])"
      ]
     },
     "execution_count": 40,
     "metadata": {},
     "output_type": "execute_result"
    }
   ],
   "source": [
    "P = Q.inv()\n",
    "P"
   ]
  },
  {
   "cell_type": "code",
   "execution_count": 41,
   "id": "bc3666af",
   "metadata": {},
   "outputs": [
    {
     "data": {
      "text/latex": [
       "$\\displaystyle \\left[\\begin{matrix}27 & 27 & 9\\end{matrix}\\right]$"
      ],
      "text/plain": [
       "Matrix([[27, 27, 9]])"
      ]
     },
     "execution_count": 41,
     "metadata": {},
     "output_type": "execute_result"
    }
   ],
   "source": [
    "k = bar_k * P\n",
    "k"
   ]
  },
  {
   "cell_type": "code",
   "execution_count": 42,
   "id": "3cbf25f5",
   "metadata": {},
   "outputs": [
    {
     "data": {
      "text/latex": [
       "$\\displaystyle \\left[\\begin{matrix}2 & 1 & 0\\\\0 & 2 & 1\\\\-27 & -27 & -7\\end{matrix}\\right]$"
      ],
      "text/plain": [
       "Matrix([\n",
       "[  2,   1,  0],\n",
       "[  0,   2,  1],\n",
       "[-27, -27, -7]])"
      ]
     },
     "execution_count": 42,
     "metadata": {},
     "output_type": "execute_result"
    }
   ],
   "source": [
    "A_ctrld = A - B*k\n",
    "A_ctrld"
   ]
  },
  {
   "cell_type": "code",
   "execution_count": 43,
   "id": "d83401bc",
   "metadata": {},
   "outputs": [
    {
     "data": {
      "text/plain": [
       "{-1: 3}"
      ]
     },
     "execution_count": 43,
     "metadata": {},
     "output_type": "execute_result"
    }
   ],
   "source": [
    "A_ctrld.eigenvals()"
   ]
  },
  {
   "cell_type": "code",
   "execution_count": null,
   "id": "4476b9a9",
   "metadata": {},
   "outputs": [],
   "source": []
  }
 ],
 "metadata": {
  "kernelspec": {
   "display_name": "Python 3",
   "language": "python",
   "name": "python3"
  },
  "language_info": {
   "codemirror_mode": {
    "name": "ipython",
    "version": 3
   },
   "file_extension": ".py",
   "mimetype": "text/x-python",
   "name": "python",
   "nbconvert_exporter": "python",
   "pygments_lexer": "ipython3",
   "version": "3.10.4"
  }
 },
 "nbformat": 4,
 "nbformat_minor": 5
}
