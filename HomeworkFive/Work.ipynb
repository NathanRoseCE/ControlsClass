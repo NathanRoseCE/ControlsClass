{
 "cells": [
  {
   "cell_type": "code",
   "execution_count": 3,
   "id": "e1f966b2",
   "metadata": {},
   "outputs": [],
   "source": [
    "import sympy"
   ]
  },
  {
   "cell_type": "code",
   "execution_count": 68,
   "id": "5606477a",
   "metadata": {},
   "outputs": [],
   "source": [
    "def get_k(A: sympy.Matrix, \n",
    "          B: sympy.Matrix, \n",
    "          tmp_2: sympy.Matrix,\n",
    "          bar_k: sympy.Matrix) -> sympy.Matrix:\n",
    "    tmp = B.row_join(A*B).row_join(A*A*B)\n",
    "    Q = tmp*tmp_2\n",
    "    P = Q.inv()\n",
    "    return bar_k * P\n",
    "    "
   ]
  },
  {
   "cell_type": "markdown",
   "id": "707b657e",
   "metadata": {},
   "source": [
    "# problem 1\n"
   ]
  },
  {
   "cell_type": "code",
   "execution_count": 4,
   "id": "b29e3347",
   "metadata": {},
   "outputs": [],
   "source": [
    "A = sympy.Matrix([\n",
    "    [2, 1, 0],\n",
    "    [0, 2, 1],\n",
    "    [0, 0, 2]\n",
    "])\n",
    "B = sympy.Matrix([\n",
    "    [0],\n",
    "    [0],\n",
    "    [1]\n",
    "])\n",
    "bar_k = sympy.Matrix([\n",
    "    [9, -9, 9]\n",
    "])"
   ]
  },
  {
   "cell_type": "code",
   "execution_count": 5,
   "id": "7e9a8ca4",
   "metadata": {},
   "outputs": [
    {
     "data": {
      "text/latex": [
       "$\\displaystyle \\left[\\begin{matrix}0 & 0 & 1\\\\0 & 1 & 4\\\\1 & 2 & 4\\end{matrix}\\right]$"
      ],
      "text/plain": [
       "Matrix([\n",
       "[0, 0, 1],\n",
       "[0, 1, 4],\n",
       "[1, 2, 4]])"
      ]
     },
     "execution_count": 5,
     "metadata": {},
     "output_type": "execute_result"
    }
   ],
   "source": [
    "tmp = B.row_join(A*B).row_join(A*A*B)\n",
    "tmp"
   ]
  },
  {
   "cell_type": "code",
   "execution_count": 6,
   "id": "23f9b5ef",
   "metadata": {},
   "outputs": [
    {
     "data": {
      "text/latex": [
       "$\\displaystyle \\left[\\begin{matrix}1 & -6 & 12\\\\0 & 1 & -6\\\\0 & 0 & 1\\end{matrix}\\right]$"
      ],
      "text/plain": [
       "Matrix([\n",
       "[1, -6, 12],\n",
       "[0,  1, -6],\n",
       "[0,  0,  1]])"
      ]
     },
     "execution_count": 6,
     "metadata": {},
     "output_type": "execute_result"
    }
   ],
   "source": [
    "tmp_2 = sympy.Matrix([\n",
    "    [1, -6, 12],\n",
    "    [0, 1, -6],\n",
    "    [0, 0, 1]\n",
    "])\n",
    "tmp_2"
   ]
  },
  {
   "cell_type": "code",
   "execution_count": 7,
   "id": "a6c8ca0a",
   "metadata": {},
   "outputs": [
    {
     "data": {
      "text/latex": [
       "$\\displaystyle \\left[\\begin{matrix}0 & 0 & 1\\\\0 & 1 & -2\\\\1 & -4 & 4\\end{matrix}\\right]$"
      ],
      "text/plain": [
       "Matrix([\n",
       "[0,  0,  1],\n",
       "[0,  1, -2],\n",
       "[1, -4,  4]])"
      ]
     },
     "execution_count": 7,
     "metadata": {},
     "output_type": "execute_result"
    }
   ],
   "source": [
    "Q = tmp*tmp_2\n",
    "Q"
   ]
  },
  {
   "cell_type": "code",
   "execution_count": 8,
   "id": "9fbd3037",
   "metadata": {},
   "outputs": [
    {
     "data": {
      "text/latex": [
       "$\\displaystyle \\left[\\begin{matrix}4 & 4 & 1\\\\2 & 1 & 0\\\\1 & 0 & 0\\end{matrix}\\right]$"
      ],
      "text/plain": [
       "Matrix([\n",
       "[4, 4, 1],\n",
       "[2, 1, 0],\n",
       "[1, 0, 0]])"
      ]
     },
     "execution_count": 8,
     "metadata": {},
     "output_type": "execute_result"
    }
   ],
   "source": [
    "P = Q.inv()\n",
    "P"
   ]
  },
  {
   "cell_type": "code",
   "execution_count": 9,
   "id": "bc3666af",
   "metadata": {},
   "outputs": [
    {
     "data": {
      "text/latex": [
       "$\\displaystyle \\left[\\begin{matrix}27 & 27 & 9\\end{matrix}\\right]$"
      ],
      "text/plain": [
       "Matrix([[27, 27, 9]])"
      ]
     },
     "execution_count": 9,
     "metadata": {},
     "output_type": "execute_result"
    }
   ],
   "source": [
    "k = bar_k * P\n",
    "k"
   ]
  },
  {
   "cell_type": "code",
   "execution_count": 69,
   "id": "056c2415",
   "metadata": {},
   "outputs": [
    {
     "data": {
      "text/latex": [
       "$\\displaystyle \\left[\\begin{matrix}27 & 27 & 9\\end{matrix}\\right]$"
      ],
      "text/plain": [
       "Matrix([[27, 27, 9]])"
      ]
     },
     "execution_count": 69,
     "metadata": {},
     "output_type": "execute_result"
    }
   ],
   "source": [
    "get_k(A, B, tmp_2, bar_k)"
   ]
  },
  {
   "cell_type": "code",
   "execution_count": 10,
   "id": "3cbf25f5",
   "metadata": {},
   "outputs": [
    {
     "data": {
      "text/latex": [
       "$\\displaystyle \\left[\\begin{matrix}2 & 1 & 0\\\\0 & 2 & 1\\\\-27 & -27 & -7\\end{matrix}\\right]$"
      ],
      "text/plain": [
       "Matrix([\n",
       "[  2,   1,  0],\n",
       "[  0,   2,  1],\n",
       "[-27, -27, -7]])"
      ]
     },
     "execution_count": 10,
     "metadata": {},
     "output_type": "execute_result"
    }
   ],
   "source": [
    "A_ctrld = A - B*k\n",
    "A_ctrld"
   ]
  },
  {
   "cell_type": "code",
   "execution_count": 11,
   "id": "d83401bc",
   "metadata": {},
   "outputs": [
    {
     "data": {
      "text/plain": [
       "{-1: 3}"
      ]
     },
     "execution_count": 11,
     "metadata": {},
     "output_type": "execute_result"
    }
   ],
   "source": [
    "A_ctrld.eigenvals()"
   ]
  },
  {
   "cell_type": "markdown",
   "id": "d6928c08",
   "metadata": {},
   "source": [
    "# Problem 2-1"
   ]
  },
  {
   "cell_type": "code",
   "execution_count": 49,
   "id": "f8ea34c3",
   "metadata": {},
   "outputs": [],
   "source": [
    "A_2 = sympy.Matrix([\n",
    "    [-2, -2, 0],\n",
    "    [0, 0, 1],\n",
    "    [0, -3, -4]\n",
    "])\n",
    "B_2 = sympy.Matrix([\n",
    "    [1, 0],\n",
    "    [0, 0],\n",
    "    [0, 1]\n",
    "])"
   ]
  },
  {
   "cell_type": "code",
   "execution_count": 50,
   "id": "33f88677",
   "metadata": {},
   "outputs": [],
   "source": [
    "tmp_21 = sympy.Matrix([\n",
    "    [1,0,0],\n",
    "    [0,0,-3],\n",
    "])\n",
    "tmp_22 = sympy.Matrix([\n",
    "    [1, 2, 1],\n",
    "    [0, 1, 1],\n",
    "    [0, -3, -4]\n",
    "])"
   ]
  },
  {
   "cell_type": "code",
   "execution_count": 51,
   "id": "405217c3",
   "metadata": {},
   "outputs": [
    {
     "data": {
      "text/latex": [
       "$\\displaystyle \\left[\\begin{matrix}1 & -5 & -1\\\\0 & 9 & 3\\end{matrix}\\right]$"
      ],
      "text/plain": [
       "Matrix([\n",
       "[1, -5, -1],\n",
       "[0,  9,  3]])"
      ]
     },
     "execution_count": 51,
     "metadata": {},
     "output_type": "execute_result"
    }
   ],
   "source": [
    "k_2 = tmp_21 * tmp_22.inv()\n",
    "k_2"
   ]
  },
  {
   "cell_type": "code",
   "execution_count": 52,
   "id": "6ed41ce5",
   "metadata": {},
   "outputs": [
    {
     "data": {
      "text/latex": [
       "$\\displaystyle \\left[\\begin{matrix}-3 & 3 & 1\\\\0 & 0 & 1\\\\0 & -12 & -7\\end{matrix}\\right]$"
      ],
      "text/plain": [
       "Matrix([\n",
       "[-3,   3,  1],\n",
       "[ 0,   0,  1],\n",
       "[ 0, -12, -7]])"
      ]
     },
     "execution_count": 52,
     "metadata": {},
     "output_type": "execute_result"
    }
   ],
   "source": [
    "(A_2 - B_2*k_2)"
   ]
  },
  {
   "cell_type": "code",
   "execution_count": 53,
   "id": "9a158b01",
   "metadata": {},
   "outputs": [
    {
     "data": {
      "text/plain": [
       "{-3: 2, -4: 1}"
      ]
     },
     "execution_count": 53,
     "metadata": {},
     "output_type": "execute_result"
    }
   ],
   "source": [
    "(A_2 - B_2*k_2).eigenvals()"
   ]
  },
  {
   "cell_type": "markdown",
   "id": "fcd830f7",
   "metadata": {},
   "source": [
    "# Question 2-2"
   ]
  },
  {
   "cell_type": "code",
   "execution_count": 75,
   "id": "2240e74f",
   "metadata": {},
   "outputs": [],
   "source": [
    "bar_v = sympy.Matrix([\n",
    "    [0],\n",
    "    [1]\n",
    "])\n",
    "bar_k = sympy.Matrix([\n",
    "    [4, 22, 30]\n",
    "])"
   ]
  },
  {
   "cell_type": "code",
   "execution_count": 76,
   "id": "45d5b180",
   "metadata": {},
   "outputs": [
    {
     "data": {
      "text/latex": [
       "$\\displaystyle \\left[\\begin{matrix}0 & 0 & -2\\\\0 & 1 & -4\\\\1 & -4 & 13\\end{matrix}\\right]$"
      ],
      "text/plain": [
       "Matrix([\n",
       "[0,  0, -2],\n",
       "[0,  1, -4],\n",
       "[1, -4, 13]])"
      ]
     },
     "execution_count": 76,
     "metadata": {},
     "output_type": "execute_result"
    }
   ],
   "source": [
    "Bv = B_2 * bar_v\n",
    "tmp_3 = Bv.row_join(A_2*Bv).row_join(A_2*A_2*Bv)\n",
    "tmp_3"
   ]
  },
  {
   "cell_type": "code",
   "execution_count": 77,
   "id": "8f8d08f3",
   "metadata": {},
   "outputs": [
    {
     "data": {
      "text/latex": [
       "$\\displaystyle \\left[\\begin{matrix}1 & 6 & 11\\\\0 & 1 & 6\\\\0 & 0 & 1\\end{matrix}\\right]$"
      ],
      "text/plain": [
       "Matrix([\n",
       "[1, 6, 11],\n",
       "[0, 1,  6],\n",
       "[0, 0,  1]])"
      ]
     },
     "execution_count": 77,
     "metadata": {},
     "output_type": "execute_result"
    }
   ],
   "source": [
    "tmp_4 = sympy.Matrix([\n",
    "    [1, 6, 11],\n",
    "    [0, 1, 6],\n",
    "    [0, 0, 1]\n",
    "])\n",
    "tmp_4"
   ]
  },
  {
   "cell_type": "code",
   "execution_count": 78,
   "id": "04fb8c78",
   "metadata": {},
   "outputs": [
    {
     "data": {
      "text/latex": [
       "$\\displaystyle \\left[\\begin{matrix}0 & 0 & -2\\\\0 & 1 & 2\\\\1 & 2 & 0\\end{matrix}\\right]$"
      ],
      "text/plain": [
       "Matrix([\n",
       "[0, 0, -2],\n",
       "[0, 1,  2],\n",
       "[1, 2,  0]])"
      ]
     },
     "execution_count": 78,
     "metadata": {},
     "output_type": "execute_result"
    }
   ],
   "source": [
    "Q = tmp_3*tmp_4\n",
    "Q"
   ]
  },
  {
   "cell_type": "code",
   "execution_count": 79,
   "id": "496a9ad2",
   "metadata": {},
   "outputs": [
    {
     "data": {
      "text/latex": [
       "$\\displaystyle \\left[\\begin{matrix}-2 & -2 & 1\\\\1 & 1 & 0\\\\- \\frac{1}{2} & 0 & 0\\end{matrix}\\right]$"
      ],
      "text/plain": [
       "Matrix([\n",
       "[  -2, -2, 1],\n",
       "[   1,  1, 0],\n",
       "[-1/2,  0, 0]])"
      ]
     },
     "execution_count": 79,
     "metadata": {},
     "output_type": "execute_result"
    }
   ],
   "source": [
    "P = Q.inv()\n",
    "P"
   ]
  },
  {
   "cell_type": "code",
   "execution_count": 80,
   "id": "80667f65",
   "metadata": {},
   "outputs": [
    {
     "data": {
      "text/latex": [
       "$\\displaystyle \\left[\\begin{matrix}-1 & 14 & 4\\end{matrix}\\right]$"
      ],
      "text/plain": [
       "Matrix([[-1, 14, 4]])"
      ]
     },
     "execution_count": 80,
     "metadata": {},
     "output_type": "execute_result"
    }
   ],
   "source": [
    "k = bar_k * P\n",
    "k"
   ]
  },
  {
   "cell_type": "code",
   "execution_count": 81,
   "id": "6ca15fb7",
   "metadata": {},
   "outputs": [
    {
     "data": {
      "text/latex": [
       "$\\displaystyle \\left[\\begin{matrix}-1 & 14 & 4\\end{matrix}\\right]$"
      ],
      "text/plain": [
       "Matrix([[-1, 14, 4]])"
      ]
     },
     "execution_count": 81,
     "metadata": {},
     "output_type": "execute_result"
    }
   ],
   "source": [
    "k = get_k(A_2, Bv, tmp_4, bar_k)\n",
    "k"
   ]
  },
  {
   "cell_type": "code",
   "execution_count": 82,
   "id": "0a5528d0",
   "metadata": {},
   "outputs": [
    {
     "data": {
      "text/plain": [
       "{-4: 1, -3: 2}"
      ]
     },
     "execution_count": 82,
     "metadata": {},
     "output_type": "execute_result"
    }
   ],
   "source": [
    "(A_2 - Bv*k).eigenvals()"
   ]
  },
  {
   "cell_type": "code",
   "execution_count": 88,
   "id": "0417d5d1",
   "metadata": {},
   "outputs": [
    {
     "data": {
      "text/latex": [
       "$\\displaystyle \\left[\\begin{matrix}0 & 0 & 0\\\\-1 & 14 & 4\\\\4 & -56 & -16\\end{matrix}\\right]$"
      ],
      "text/plain": [
       "Matrix([\n",
       "[ 0,   0,   0],\n",
       "[-1,  14,   4],\n",
       "[ 4, -56, -16]])"
      ]
     },
     "execution_count": 88,
     "metadata": {},
     "output_type": "execute_result"
    }
   ],
   "source": [
    "A_2 * B_2*bar_v*k"
   ]
  },
  {
   "cell_type": "code",
   "execution_count": 89,
   "id": "16d01b46",
   "metadata": {},
   "outputs": [
    {
     "data": {
      "text/plain": [
       "{0: 2, -2: 1}"
      ]
     },
     "execution_count": 89,
     "metadata": {},
     "output_type": "execute_result"
    }
   ],
   "source": [
    "(A_2 * B_2*bar_v*k).eigenvals()"
   ]
  },
  {
   "cell_type": "markdown",
   "id": "9791ff61",
   "metadata": {},
   "source": [
    "# Question 3"
   ]
  },
  {
   "cell_type": "code",
   "execution_count": null,
   "id": "0a0a28ae",
   "metadata": {},
   "outputs": [],
   "source": [
    "A = sympy.Matrix([\n",
    "    [-2, 1],\n",
    "    [0, -1]\n",
    "])\n",
    "B = sympy.Matrix([\n",
    "    [0],\n",
    "    [1]\n",
    "])"
   ]
  }
 ],
 "metadata": {
  "kernelspec": {
   "display_name": "Python 3",
   "language": "python",
   "name": "python3"
  },
  "language_info": {
   "codemirror_mode": {
    "name": "ipython",
    "version": 3
   },
   "file_extension": ".py",
   "mimetype": "text/x-python",
   "name": "python",
   "nbconvert_exporter": "python",
   "pygments_lexer": "ipython3",
   "version": "3.10.4"
  }
 },
 "nbformat": 4,
 "nbformat_minor": 5
}
